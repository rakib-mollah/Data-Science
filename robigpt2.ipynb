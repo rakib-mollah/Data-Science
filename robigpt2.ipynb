{
 "cells": [
  {
   "cell_type": "code",
   "execution_count": 1,
   "id": "ef526462",
   "metadata": {
    "_cell_guid": "b1076dfc-b9ad-4769-8c92-a6c4dae69d19",
    "_uuid": "8f2839f25d086af736a60e9eeb907d3b93b6e0e5",
    "execution": {
     "iopub.execute_input": "2023-03-27T16:24:02.337523Z",
     "iopub.status.busy": "2023-03-27T16:24:02.337025Z",
     "iopub.status.idle": "2023-03-27T16:24:13.868137Z",
     "shell.execute_reply": "2023-03-27T16:24:13.866847Z"
    },
    "papermill": {
     "duration": 11.539698,
     "end_time": "2023-03-27T16:24:13.871192",
     "exception": false,
     "start_time": "2023-03-27T16:24:02.331494",
     "status": "completed"
    },
    "tags": []
   },
   "outputs": [
    {
     "name": "stdout",
     "output_type": "stream",
     "text": [
      "Requirement already satisfied: datasets in /opt/conda/lib/python3.7/site-packages (2.1.0)\r\n",
      "Requirement already satisfied: transformers in /opt/conda/lib/python3.7/site-packages (4.26.1)\r\n",
      "Requirement already satisfied: dill in /opt/conda/lib/python3.7/site-packages (from datasets) (0.3.6)\r\n",
      "Requirement already satisfied: importlib-metadata in /opt/conda/lib/python3.7/site-packages (from datasets) (4.11.4)\r\n",
      "Requirement already satisfied: responses<0.19 in /opt/conda/lib/python3.7/site-packages (from datasets) (0.18.0)\r\n",
      "Requirement already satisfied: numpy>=1.17 in /opt/conda/lib/python3.7/site-packages (from datasets) (1.21.6)\r\n",
      "Requirement already satisfied: requests>=2.19.0 in /opt/conda/lib/python3.7/site-packages (from datasets) (2.28.2)\r\n",
      "Requirement already satisfied: pyarrow>=5.0.0 in /opt/conda/lib/python3.7/site-packages (from datasets) (5.0.0)\r\n",
      "Requirement already satisfied: multiprocess in /opt/conda/lib/python3.7/site-packages (from datasets) (0.70.14)\r\n",
      "Requirement already satisfied: aiohttp in /opt/conda/lib/python3.7/site-packages (from datasets) (3.8.3)\r\n",
      "Requirement already satisfied: huggingface-hub<1.0.0,>=0.1.0 in /opt/conda/lib/python3.7/site-packages (from datasets) (0.12.1)\r\n",
      "Requirement already satisfied: packaging in /opt/conda/lib/python3.7/site-packages (from datasets) (23.0)\r\n",
      "Requirement already satisfied: pandas in /opt/conda/lib/python3.7/site-packages (from datasets) (1.3.5)\r\n",
      "Requirement already satisfied: tqdm>=4.62.1 in /opt/conda/lib/python3.7/site-packages (from datasets) (4.64.1)\r\n",
      "Requirement already satisfied: xxhash in /opt/conda/lib/python3.7/site-packages (from datasets) (3.2.0)\r\n",
      "Requirement already satisfied: fsspec[http]>=2021.05.0 in /opt/conda/lib/python3.7/site-packages (from datasets) (2023.1.0)\r\n",
      "Requirement already satisfied: regex!=2019.12.17 in /opt/conda/lib/python3.7/site-packages (from transformers) (2021.11.10)\r\n",
      "Requirement already satisfied: filelock in /opt/conda/lib/python3.7/site-packages (from transformers) (3.9.0)\r\n",
      "Requirement already satisfied: tokenizers!=0.11.3,<0.14,>=0.11.1 in /opt/conda/lib/python3.7/site-packages (from transformers) (0.13.2)\r\n",
      "Requirement already satisfied: pyyaml>=5.1 in /opt/conda/lib/python3.7/site-packages (from transformers) (6.0)\r\n",
      "Requirement already satisfied: typing-extensions>=3.7.4 in /opt/conda/lib/python3.7/site-packages (from aiohttp->datasets) (4.4.0)\r\n",
      "Requirement already satisfied: yarl<2.0,>=1.0 in /opt/conda/lib/python3.7/site-packages (from aiohttp->datasets) (1.8.2)\r\n",
      "Requirement already satisfied: frozenlist>=1.1.1 in /opt/conda/lib/python3.7/site-packages (from aiohttp->datasets) (1.3.3)\r\n",
      "Requirement already satisfied: asynctest==0.13.0 in /opt/conda/lib/python3.7/site-packages (from aiohttp->datasets) (0.13.0)\r\n",
      "Requirement already satisfied: attrs>=17.3.0 in /opt/conda/lib/python3.7/site-packages (from aiohttp->datasets) (22.2.0)\r\n",
      "Requirement already satisfied: multidict<7.0,>=4.5 in /opt/conda/lib/python3.7/site-packages (from aiohttp->datasets) (6.0.4)\r\n",
      "Requirement already satisfied: charset-normalizer<3.0,>=2.0 in /opt/conda/lib/python3.7/site-packages (from aiohttp->datasets) (2.1.1)\r\n",
      "Requirement already satisfied: aiosignal>=1.1.2 in /opt/conda/lib/python3.7/site-packages (from aiohttp->datasets) (1.3.1)\r\n",
      "Requirement already satisfied: async-timeout<5.0,>=4.0.0a3 in /opt/conda/lib/python3.7/site-packages (from aiohttp->datasets) (4.0.2)\r\n",
      "Requirement already satisfied: certifi>=2017.4.17 in /opt/conda/lib/python3.7/site-packages (from requests>=2.19.0->datasets) (2022.12.7)\r\n",
      "Requirement already satisfied: idna<4,>=2.5 in /opt/conda/lib/python3.7/site-packages (from requests>=2.19.0->datasets) (3.4)\r\n",
      "Requirement already satisfied: urllib3<1.27,>=1.21.1 in /opt/conda/lib/python3.7/site-packages (from requests>=2.19.0->datasets) (1.26.14)\r\n",
      "Requirement already satisfied: zipp>=0.5 in /opt/conda/lib/python3.7/site-packages (from importlib-metadata->datasets) (3.11.0)\r\n",
      "Requirement already satisfied: python-dateutil>=2.7.3 in /opt/conda/lib/python3.7/site-packages (from pandas->datasets) (2.8.2)\r\n",
      "Requirement already satisfied: pytz>=2017.3 in /opt/conda/lib/python3.7/site-packages (from pandas->datasets) (2022.7.1)\r\n",
      "Requirement already satisfied: six>=1.5 in /opt/conda/lib/python3.7/site-packages (from python-dateutil>=2.7.3->pandas->datasets) (1.16.0)\r\n",
      "\u001b[33mWARNING: Running pip as the 'root' user can result in broken permissions and conflicting behaviour with the system package manager. It is recommended to use a virtual environment instead: https://pip.pypa.io/warnings/venv\u001b[0m\u001b[33m\r\n",
      "\u001b[0m"
     ]
    }
   ],
   "source": [
    "! pip install datasets transformers"
   ]
  },
  {
   "cell_type": "code",
   "execution_count": 2,
   "id": "dcdd7347",
   "metadata": {
    "execution": {
     "iopub.execute_input": "2023-03-27T16:24:13.880192Z",
     "iopub.status.busy": "2023-03-27T16:24:13.879235Z",
     "iopub.status.idle": "2023-03-27T16:24:13.884590Z",
     "shell.execute_reply": "2023-03-27T16:24:13.883586Z"
    },
    "papermill": {
     "duration": 0.011754,
     "end_time": "2023-03-27T16:24:13.886646",
     "exception": false,
     "start_time": "2023-03-27T16:24:13.874892",
     "status": "completed"
    },
    "tags": []
   },
   "outputs": [],
   "source": [
    "import json"
   ]
  },
  {
   "cell_type": "code",
   "execution_count": 3,
   "id": "bb976bcf",
   "metadata": {
    "execution": {
     "iopub.execute_input": "2023-03-27T16:24:13.894477Z",
     "iopub.status.busy": "2023-03-27T16:24:13.894196Z",
     "iopub.status.idle": "2023-03-27T16:24:34.918164Z",
     "shell.execute_reply": "2023-03-27T16:24:34.916858Z"
    },
    "papermill": {
     "duration": 21.030891,
     "end_time": "2023-03-27T16:24:34.920970",
     "exception": false,
     "start_time": "2023-03-27T16:24:13.890079",
     "status": "completed"
    },
    "tags": []
   },
   "outputs": [
    {
     "data": {
      "application/vnd.jupyter.widget-view+json": {
       "model_id": "a24cb05904854d3abb5c41d6d195cc60",
       "version_major": 2,
       "version_minor": 0
      },
      "text/plain": [
       "Downloading (…)lve/main/config.json:   0%|          | 0.00/881 [00:00<?, ?B/s]"
      ]
     },
     "metadata": {},
     "output_type": "display_data"
    },
    {
     "data": {
      "application/vnd.jupyter.widget-view+json": {
       "model_id": "6bb94aa72d5d4665b50ce66ded952137",
       "version_major": 2,
       "version_minor": 0
      },
      "text/plain": [
       "Downloading (…)/main/tokenizer.json:   0%|          | 0.00/1.71M [00:00<?, ?B/s]"
      ]
     },
     "metadata": {},
     "output_type": "display_data"
    },
    {
     "name": "stderr",
     "output_type": "stream",
     "text": [
      "Special tokens have been added in the vocabulary, make sure the associated word embeddings are fine-tuned or trained.\n"
     ]
    }
   ],
   "source": [
    "from transformers import AutoTokenizer\n",
    "\n",
    "tokenizer = AutoTokenizer.from_pretrained(\"ghosh-r/bangla-gpt2\")\n",
    "\n",
    "train_path = '/kaggle/working/train_dataset(1).txt'\n",
    "test_path = '/kaggle/working/test_dataset.txt'"
   ]
  },
  {
   "cell_type": "code",
   "execution_count": 4,
   "id": "3b00f142",
   "metadata": {
    "execution": {
     "iopub.execute_input": "2023-03-27T16:24:34.930780Z",
     "iopub.status.busy": "2023-03-27T16:24:34.929842Z",
     "iopub.status.idle": "2023-03-27T16:24:34.937004Z",
     "shell.execute_reply": "2023-03-27T16:24:34.936089Z"
    },
    "papermill": {
     "duration": 0.014028,
     "end_time": "2023-03-27T16:24:34.939234",
     "exception": false,
     "start_time": "2023-03-27T16:24:34.925206",
     "status": "completed"
    },
    "tags": []
   },
   "outputs": [
    {
     "name": "stdout",
     "output_type": "stream",
     "text": [
      "/kaggle/working\n"
     ]
    }
   ],
   "source": [
    "cd '/kaggle/working/'"
   ]
  },
  {
   "cell_type": "code",
   "execution_count": 5,
   "id": "f4ca6840",
   "metadata": {
    "execution": {
     "iopub.execute_input": "2023-03-27T16:24:34.947429Z",
     "iopub.status.busy": "2023-03-27T16:24:34.947161Z",
     "iopub.status.idle": "2023-03-27T16:24:34.962427Z",
     "shell.execute_reply": "2023-03-27T16:24:34.961258Z"
    },
    "papermill": {
     "duration": 0.021995,
     "end_time": "2023-03-27T16:24:34.964676",
     "exception": false,
     "start_time": "2023-03-27T16:24:34.942681",
     "status": "completed"
    },
    "tags": []
   },
   "outputs": [
    {
     "name": "stdout",
     "output_type": "stream",
     "text": [
      "/kaggle/input/robi-thakur/train_dataset(1).txt\n",
      "/kaggle/input/robi-thakur/test_dataset.txt\n"
     ]
    }
   ],
   "source": [
    "# This Python 3 environment comes with many helpful analytics libraries installed\n",
    "# It is defined by the kaggle/python Docker image: https://github.com/kaggle/docker-python\n",
    "# For example, here's several helpful packages to load\n",
    "\n",
    "import numpy as np # linear algebra\n",
    "import pandas as pd # data processing, CSV file I/O (e.g. pd.read_csv)\n",
    "\n",
    "# Input data files are available in the read-only \"../input/\" directory\n",
    "# For example, running this (by clicking run or pressing Shift+Enter) will list all files under the input directory\n",
    "\n",
    "import os\n",
    "for dirname, _, filenames in os.walk('/kaggle/input'):\n",
    "    for filename in filenames:\n",
    "        print(os.path.join(dirname, filename))\n",
    "\n",
    "# You can write up to 20GB to the current directory (/kaggle/working/) that gets preserved as output when you create a version using \"Save & Run All\" \n",
    "# You can also write temporary files to /kaggle/temp/, but they won't be saved outside of the current session"
   ]
  },
  {
   "cell_type": "code",
   "execution_count": 6,
   "id": "63930f1b",
   "metadata": {
    "execution": {
     "iopub.execute_input": "2023-03-27T16:24:34.972608Z",
     "iopub.status.busy": "2023-03-27T16:24:34.972355Z",
     "iopub.status.idle": "2023-03-27T16:24:34.979082Z",
     "shell.execute_reply": "2023-03-27T16:24:34.978095Z"
    },
    "papermill": {
     "duration": 0.012993,
     "end_time": "2023-03-27T16:24:34.981137",
     "exception": false,
     "start_time": "2023-03-27T16:24:34.968144",
     "status": "completed"
    },
    "tags": []
   },
   "outputs": [
    {
     "data": {
      "text/plain": [
       "'/kaggle/working'"
      ]
     },
     "execution_count": 6,
     "metadata": {},
     "output_type": "execute_result"
    }
   ],
   "source": [
    "os.getcwd()"
   ]
  },
  {
   "cell_type": "code",
   "execution_count": 7,
   "id": "d1c94a24",
   "metadata": {
    "execution": {
     "iopub.execute_input": "2023-03-27T16:24:34.990322Z",
     "iopub.status.busy": "2023-03-27T16:24:34.989550Z",
     "iopub.status.idle": "2023-03-27T16:24:36.356688Z",
     "shell.execute_reply": "2023-03-27T16:24:36.354150Z"
    },
    "papermill": {
     "duration": 1.374223,
     "end_time": "2023-03-27T16:24:36.359394",
     "exception": false,
     "start_time": "2023-03-27T16:24:34.985171",
     "status": "completed"
    },
    "tags": []
   },
   "outputs": [
    {
     "name": "stdout",
     "output_type": "stream",
     "text": [
      "Copied\n"
     ]
    }
   ],
   "source": [
    "import shutil\n",
    "src_path = r\"/kaggle/input/robi-thakur/train_dataset(1).txt\"\n",
    "dst_path = r\"/kaggle/working/\"\n",
    "shutil.copy(src_path, dst_path)\n",
    "print('Copied')"
   ]
  },
  {
   "cell_type": "code",
   "execution_count": 8,
   "id": "91fa74c4",
   "metadata": {
    "execution": {
     "iopub.execute_input": "2023-03-27T16:24:36.369354Z",
     "iopub.status.busy": "2023-03-27T16:24:36.368433Z",
     "iopub.status.idle": "2023-03-27T16:24:36.648282Z",
     "shell.execute_reply": "2023-03-27T16:24:36.646783Z"
    },
    "papermill": {
     "duration": 0.288065,
     "end_time": "2023-03-27T16:24:36.651429",
     "exception": false,
     "start_time": "2023-03-27T16:24:36.363364",
     "status": "completed"
    },
    "tags": []
   },
   "outputs": [
    {
     "name": "stdout",
     "output_type": "stream",
     "text": [
      "Copied\n"
     ]
    }
   ],
   "source": [
    "import shutil\n",
    "src_path = r\"/kaggle/input/robi-thakur/test_dataset.txt\"\n",
    "dst_path = r\"/kaggle/working/\"\n",
    "shutil.copy(src_path, dst_path)\n",
    "print('Copied')"
   ]
  },
  {
   "cell_type": "code",
   "execution_count": 9,
   "id": "945c5ac4",
   "metadata": {
    "execution": {
     "iopub.execute_input": "2023-03-27T16:24:36.661185Z",
     "iopub.status.busy": "2023-03-27T16:24:36.660868Z",
     "iopub.status.idle": "2023-03-27T16:24:36.666859Z",
     "shell.execute_reply": "2023-03-27T16:24:36.665673Z"
    },
    "papermill": {
     "duration": 0.014794,
     "end_time": "2023-03-27T16:24:36.670934",
     "exception": false,
     "start_time": "2023-03-27T16:24:36.656140",
     "status": "completed"
    },
    "tags": []
   },
   "outputs": [
    {
     "name": "stdout",
     "output_type": "stream",
     "text": [
      "/kaggle/working\n"
     ]
    }
   ],
   "source": [
    "cd '/kaggle/working/'"
   ]
  },
  {
   "cell_type": "code",
   "execution_count": 10,
   "id": "65750729",
   "metadata": {
    "execution": {
     "iopub.execute_input": "2023-03-27T16:24:36.680915Z",
     "iopub.status.busy": "2023-03-27T16:24:36.680650Z"
    },
    "papermill": {
     "duration": 48.878689,
     "end_time": "2023-03-27T16:25:25.554639",
     "exception": false,
     "start_time": "2023-03-27T16:24:36.675950",
     "status": "completed"
    },
    "tags": []
   },
   "outputs": [
    {
     "name": "stderr",
     "output_type": "stream",
     "text": [
      "/opt/conda/lib/python3.7/site-packages/transformers/data/datasets/language_modeling.py:58: FutureWarning: This dataset will be removed from the library soon, preprocessing should be handled with the 🤗 Datasets library. You can have a look at this example script for pointers: https://github.com/huggingface/transformers/blob/main/examples/pytorch/language-modeling/run_mlm.py\n",
      "  FutureWarning,\n"
     ]
    }
   ],
   "source": [
    "from transformers import TextDataset,DataCollatorForLanguageModeling\n",
    "\n",
    "def load_dataset(train_path,test_path,tokenizer):\n",
    "    train_dataset = TextDataset(\n",
    "          tokenizer=tokenizer,\n",
    "          file_path=train_path,\n",
    "          block_size=128)\n",
    "     \n",
    "    test_dataset = TextDataset(\n",
    "          tokenizer=tokenizer,\n",
    "          file_path=test_path,\n",
    "          block_size=128)   \n",
    "    \n",
    "    data_collator = DataCollatorForLanguageModeling(\n",
    "        tokenizer=tokenizer, mlm=False,\n",
    "    )\n",
    "    return train_dataset,test_dataset,data_collator\n",
    "\n",
    "train_dataset,test_dataset,data_collator = load_dataset(train_path,test_path,tokenizer)"
   ]
  }
 ],
 "metadata": {
  "kernelspec": {
   "display_name": "Python 3",
   "language": "python",
   "name": "python3"
  },
  "language_info": {
   "codemirror_mode": {
    "name": "ipython",
    "version": 3
   },
   "file_extension": ".py",
   "mimetype": "text/x-python",
   "name": "python",
   "nbconvert_exporter": "python",
   "pygments_lexer": "ipython3",
   "version": "3.6.4"
  },
  "papermill": {
   "default_parameters": {},
   "duration": 96.036562,
   "end_time": "2023-03-27T16:25:25.653355",
   "environment_variables": {},
   "exception": null,
   "input_path": "__notebook__.ipynb",
   "output_path": "__notebook__.ipynb",
   "parameters": {},
   "start_time": "2023-03-27T16:23:49.616793",
   "version": "2.4.0"
  }
 },
 "nbformat": 4,
 "nbformat_minor": 5
}
